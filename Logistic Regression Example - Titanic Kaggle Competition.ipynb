{
 "cells": [
  {
   "cell_type": "markdown",
   "metadata": {},
   "source": [
    "# Logisitic Regression Example with Kaggle Titanic Dataset"
   ]
  },
  {
   "cell_type": "markdown",
   "metadata": {},
   "source": [
    "## Import Data"
   ]
  },
  {
   "cell_type": "code",
   "execution_count": 22,
   "metadata": {},
   "outputs": [],
   "source": [
    "import pandas as pd\n",
    "import numpy as np\n",
    "import matplotlib.pyplot as plt\n",
    "from sklearn.linear_model import LogisticRegression\n",
    "from sklearn.model_selection import train_test_split\n",
    "from sklearn.preprocessing import StandardScaler\n",
    "\n",
    "# Load the passenger data\n",
    "train = pd.read_csv(\"train.csv\")\n",
    "test = pd.read_csv(\"test.csv\")\n",
    "#passengers = pd.concat([train,test],sort=False)"
   ]
  },
  {
   "cell_type": "markdown",
   "metadata": {},
   "source": [
    "## Inspect Data"
   ]
  },
  {
   "cell_type": "code",
   "execution_count": 2,
   "metadata": {},
   "outputs": [
    {
     "name": "stdout",
     "output_type": "stream",
     "text": [
      "   PassengerId  Survived  Pclass  \\\n",
      "0            1         0       3   \n",
      "1            2         1       1   \n",
      "2            3         1       3   \n",
      "3            4         1       1   \n",
      "4            5         0       3   \n",
      "\n",
      "                                                Name     Sex   Age  SibSp  \\\n",
      "0                            Braund, Mr. Owen Harris    male  22.0      1   \n",
      "1  Cumings, Mrs. John Bradley (Florence Briggs Th...  female  38.0      1   \n",
      "2                             Heikkinen, Miss. Laina  female  26.0      0   \n",
      "3       Futrelle, Mrs. Jacques Heath (Lily May Peel)  female  35.0      1   \n",
      "4                           Allen, Mr. William Henry    male  35.0      0   \n",
      "\n",
      "   Parch            Ticket     Fare Cabin Embarked  \n",
      "0      0         A/5 21171   7.2500   NaN        S  \n",
      "1      0          PC 17599  71.2833   C85        C  \n",
      "2      0  STON/O2. 3101282   7.9250   NaN        S  \n",
      "3      0            113803  53.1000  C123        S  \n",
      "4      0            373450   8.0500   NaN        S  \n",
      "<class 'pandas.core.frame.DataFrame'>\n",
      "RangeIndex: 418 entries, 0 to 417\n",
      "Data columns (total 11 columns):\n",
      " #   Column       Non-Null Count  Dtype  \n",
      "---  ------       --------------  -----  \n",
      " 0   PassengerId  418 non-null    int64  \n",
      " 1   Pclass       418 non-null    int64  \n",
      " 2   Name         418 non-null    object \n",
      " 3   Sex          418 non-null    object \n",
      " 4   Age          332 non-null    float64\n",
      " 5   SibSp        418 non-null    int64  \n",
      " 6   Parch        418 non-null    int64  \n",
      " 7   Ticket       418 non-null    object \n",
      " 8   Fare         417 non-null    float64\n",
      " 9   Cabin        91 non-null     object \n",
      " 10  Embarked     418 non-null    object \n",
      "dtypes: float64(2), int64(4), object(5)\n",
      "memory usage: 36.0+ KB\n",
      "None\n"
     ]
    }
   ],
   "source": [
    "#print(passengers.head())\n",
    "print(train.head())\n",
    "#print(test.head())\n",
    "#print(train.info())\n",
    "print(test.info())"
   ]
  },
  {
   "cell_type": "markdown",
   "metadata": {},
   "source": [
    "The training dataset includes Survived column while the test one does not as that is the field we are trying to predict.  Some other features include, Train: lot of null cabin values, some in age and embarked as well, Test: lot of null cabin vales, some in age, fare, and embarked as well."
   ]
  },
  {
   "cell_type": "markdown",
   "metadata": {},
   "source": [
    "## Clean Data"
   ]
  },
  {
   "cell_type": "code",
   "execution_count": 3,
   "metadata": {},
   "outputs": [
    {
     "name": "stdout",
     "output_type": "stream",
     "text": [
      "[3 1 2]\n",
      "     Sex        Age  Pclass  FirstClass  SecondClass  ThirdClass\n",
      "0      0  22.000000       3           0            0           1\n",
      "1      1  38.000000       1           1            0           0\n",
      "2      1  26.000000       3           0            0           1\n",
      "3      1  35.000000       1           1            0           0\n",
      "4      0  35.000000       3           0            0           1\n",
      "..   ...        ...     ...         ...          ...         ...\n",
      "886    0  27.000000       2           0            1           0\n",
      "887    1  19.000000       1           1            0           0\n",
      "888    1  29.699118       3           0            0           1\n",
      "889    0  26.000000       1           1            0           0\n",
      "890    0  32.000000       3           0            0           1\n",
      "\n",
      "[891 rows x 6 columns]\n"
     ]
    }
   ],
   "source": [
    "# Update sex column to numerical\n",
    "train[\"Sex\"] = train.Sex.apply(lambda x: 1 if x == \"female\" else 0)\n",
    "test[\"Sex\"] = test.Sex.apply(lambda x: 1 if x == \"female\" else 0)\n",
    "\n",
    "# Fill the nan values in the age column\n",
    "#print(train.Age.values) # check na's\n",
    "train.Age.fillna(train.Age.mean(), inplace = True)\n",
    "test.Age.fillna(test.Age.mean(), inplace = True)\n",
    "\n",
    "# How many classes\n",
    "print(train.Pclass.unique())\n",
    "\n",
    "# Create a first class column\n",
    "train[\"FirstClass\"] = train.Pclass.apply(lambda x: 1 if x == 1 else 0)\n",
    "test[\"FirstClass\"] = test.Pclass.apply(lambda x: 1 if x == 1 else 0)\n",
    "\n",
    "# Create a second and third class column\n",
    "train[\"SecondClass\"] = train.Pclass.apply(lambda x: 1 if x == 2 else 0)\n",
    "test[\"SecondClass\"] = test.Pclass.apply(lambda x: 1 if x == 2 else 0)\n",
    "\n",
    "train[\"ThirdClass\"] = train.Pclass.apply(lambda x: 1 if x == 3 else 0)\n",
    "test[\"ThirdClass\"] = test.Pclass.apply(lambda x: 1 if x == 3 else 0)\n",
    "\n",
    "#Check it worked\n",
    "print(train[[\"Sex\", \"Age\", \"Pclass\", \"FirstClass\", \"SecondClass\", \"ThirdClass\"]])\n",
    "#print(test[[\"Sex\", \"Age\", \"Pclass\", \"FirstClass\", \"SecondClass\", \"ThirdClass\"]])"
   ]
  },
  {
   "cell_type": "markdown",
   "metadata": {},
   "source": [
    "## Select and Scale Fields"
   ]
  },
  {
   "cell_type": "code",
   "execution_count": 4,
   "metadata": {},
   "outputs": [
    {
     "name": "stdout",
     "output_type": "stream",
     "text": [
      "[[-0.73769513 -0.5924806  -0.56568542 -0.51015154  0.90258736]\n",
      " [ 1.35557354  0.63878901  1.76776695 -0.51015154 -1.10792599]\n",
      " [ 1.35557354 -0.2846632  -0.56568542 -0.51015154  0.90258736]\n",
      " ...\n",
      " [ 1.35557354  0.         -0.56568542 -0.51015154  0.90258736]\n",
      " [-0.73769513 -0.2846632   1.76776695 -0.51015154 -1.10792599]\n",
      " [-0.73769513  0.17706291 -0.56568542 -0.51015154  0.90258736]]\n",
      "[[-0.73769513  0.36944878 -0.56568542 -0.51015154  0.90258736]\n",
      " [ 1.35557354  1.33137817 -0.56568542 -0.51015154  0.90258736]\n",
      " [-0.73769513  2.48569343 -0.56568542  1.96020185 -1.10792599]\n",
      " ...\n",
      " [-0.73769513  0.67726619 -0.56568542 -0.51015154  0.90258736]\n",
      " [-0.73769513  0.04413122 -0.56568542 -0.51015154  0.90258736]\n",
      " [-0.73769513  0.04413122 -0.56568542 -0.51015154  0.90258736]]\n"
     ]
    }
   ],
   "source": [
    "# Select the desired features\n",
    "labels = [\"Sex\", \"Age\", \"FirstClass\", \"SecondClass\", \"ThirdClass\"]\n",
    "predictors = train[labels]\n",
    "survival = train[\"Survived\"]\n",
    "\n",
    "test_predictors = test[labels]\n",
    "\n",
    "# Scale the feature data so it has mean = 0 and standard deviation = 1\n",
    "scaler = StandardScaler()\n",
    "predictors_scaled = scaler.fit_transform(predictors)\n",
    "test_predictors_scaled = scaler.transform(test_predictors)\n",
    "\n",
    "#Check Scaled Data\n",
    "print(predictors_scaled)\n",
    "print(test_predictors_scaled)"
   ]
  },
  {
   "cell_type": "markdown",
   "metadata": {},
   "source": [
    "## Fit Logisitic Regression Model"
   ]
  },
  {
   "cell_type": "code",
   "execution_count": 5,
   "metadata": {},
   "outputs": [
    {
     "data": {
      "text/plain": [
       "LogisticRegression(C=1.0, class_weight=None, dual=False, fit_intercept=True,\n",
       "                   intercept_scaling=1, l1_ratio=None, max_iter=100,\n",
       "                   multi_class='auto', n_jobs=None, penalty='l2',\n",
       "                   random_state=None, solver='lbfgs', tol=0.0001, verbose=0,\n",
       "                   warm_start=False)"
      ]
     },
     "execution_count": 5,
     "metadata": {},
     "output_type": "execute_result"
    }
   ],
   "source": [
    "# Create and train the model\n",
    "model = LogisticRegression()\n",
    "model.fit(predictors_scaled, survival)"
   ]
  },
  {
   "cell_type": "markdown",
   "metadata": {},
   "source": [
    "## Analyze Model"
   ]
  },
  {
   "cell_type": "code",
   "execution_count": 6,
   "metadata": {},
   "outputs": [
    {
     "name": "stdout",
     "output_type": "stream",
     "text": [
      "0.8013468013468014\n",
      "[('Sex', 1.2361037614708328), ('Age', -0.425979561645433), ('FirstClass', 0.5413533479565895), ('SecondClass', 0.06293829378799866), ('ThirdClass', -0.5176552912370285)]\n"
     ]
    }
   ],
   "source": [
    "# Score the model on the train data\n",
    "train_score = model.score(predictors_scaled, survival)\n",
    "print(train_score)\n",
    "\n",
    "# Analyze the coefficients\n",
    "print(list(zip(labels, model.coef_[0])))"
   ]
  },
  {
   "cell_type": "markdown",
   "metadata": {},
   "source": [
    "Sex is the most important predicting factor, followed by FirstClass, ThirdClass, and then Age. SecondClass is the least significant predictor."
   ]
  },
  {
   "cell_type": "markdown",
   "metadata": {},
   "source": [
    "## Create and Scale New Data"
   ]
  },
  {
   "cell_type": "code",
   "execution_count": 10,
   "metadata": {},
   "outputs": [
    {
     "name": "stdout",
     "output_type": "stream",
     "text": [
      "[[-0.73769513 -0.7463893  -0.56568542 -0.51015154  0.90258736]\n",
      " [ 1.35557354 -0.97725235  1.76776695 -0.51015154 -1.10792599]\n",
      " [ 1.35557354 -0.5924806  -0.56568542  1.96020185 -1.10792599]]\n"
     ]
    }
   ],
   "source": [
    "# Sample passenger features\n",
    "Jack = np.array([0.0,20.0,0.0,0.0, 1.0])\n",
    "Rose = np.array([1.0,17.0,1.0,0.0, 0.0])\n",
    "Someone = np.array([1.0,22.0,0.0,1.0, 0.0])\n",
    "\n",
    "# Combine passenger arrays\n",
    "sample_passengers = np.array([Jack, Rose, Someone])\n",
    "\n",
    "# Scale the sample passenger features\n",
    "sample_passengers_scaled = scaler.transform(sample_passengers)\n",
    "print(sample_passengers_scaled)"
   ]
  },
  {
   "cell_type": "markdown",
   "metadata": {},
   "source": [
    "These are the scaled predictor values of our 3 new passengers, let's predict their chances of survival."
   ]
  },
  {
   "cell_type": "markdown",
   "metadata": {},
   "source": [
    "## Predict New Data"
   ]
  },
  {
   "cell_type": "code",
   "execution_count": 11,
   "metadata": {},
   "outputs": [
    {
     "name": "stdout",
     "output_type": "stream",
     "text": [
      "[0 1 1]\n",
      "[[0.88570414 0.11429586]\n",
      " [0.05010538 0.94989462]\n",
      " [0.15834748 0.84165252]]\n"
     ]
    }
   ],
   "source": [
    "# Make survival predictions!\n",
    "print(model.predict(sample_passengers_scaled))\n",
    "print(model.predict_proba(sample_passengers_scaled))"
   ]
  },
  {
   "cell_type": "markdown",
   "metadata": {},
   "source": [
    "Our first passenger isn't predicted to survive with only 11% chance of survival.  However, our other 2 both are predicted to survive with 95% and 84% respectively."
   ]
  },
  {
   "cell_type": "markdown",
   "metadata": {},
   "source": [
    "## Predict Test Data"
   ]
  },
  {
   "cell_type": "code",
   "execution_count": 21,
   "metadata": {},
   "outputs": [
    {
     "name": "stdout",
     "output_type": "stream",
     "text": [
      "[0 0 0 0 1 0 1 0 1 0]\n",
      "[[0.92573284 0.07426716]\n",
      " [0.5854487  0.4145513 ]\n",
      " [0.90275004 0.09724996]\n",
      " [0.90695921 0.09304079]\n",
      " [0.38358891 0.61641109]\n",
      " [0.86423353 0.13576647]\n",
      " [0.44717417 0.55282583]\n",
      " [0.74039947 0.25960053]\n",
      " [0.35309402 0.64690598]\n",
      " [0.88898091 0.11101909]]\n"
     ]
    },
    {
     "data": {
      "image/png": "[encoded data removed]",
      "text/plain": [
       "<Figure size 432x288 with 1 Axes>"
      ]
     },
     "metadata": {
      "needs_background": "light"
     },
     "output_type": "display_data"
    }
   ],
   "source": [
    "# Test data survival predictions\n",
    "test_predictions = model.predict(test_predictors_scaled)\n",
    "print(test_predictions[:10])\n",
    "test_prob = model.predict_proba(test_predictors_scaled)\n",
    "print(test_prob[:10]) #cut off at 10 for easier viewing\n",
    "\n",
    "# Plot\n",
    "plt.plot(test_predictions, \"o\")\n",
    "\n",
    "\n",
    "plt.show()"
   ]
  },
  {
   "cell_type": "markdown",
   "metadata": {},
   "source": [
    "With the test data provided, we can analyze each passenger and predict if they survived and their chances of survival."
   ]
  }
 ],
 "metadata": {
  "kernelspec": {
   "display_name": "Python 3",
   "language": "python",
   "name": "python3"
  },
  "language_info": {
   "codemirror_mode": {
    "name": "ipython",
    "version": 3
   },
   "file_extension": ".py",
   "mimetype": "text/x-python",
   "name": "python",
   "nbconvert_exporter": "python",
   "pygments_lexer": "ipython3",
   "version": "3.7.6"
  }
 },
 "nbformat": 4,
 "nbformat_minor": 4
}
